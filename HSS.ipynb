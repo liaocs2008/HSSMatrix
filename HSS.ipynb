{
 "cells": [
  {
   "cell_type": "code",
   "execution_count": 1,
   "metadata": {},
   "outputs": [],
   "source": [
    "import numpy as np\n",
    "from scipy.linalg import block_diag\n",
    "import time"
   ]
  },
  {
   "cell_type": "code",
   "execution_count": 2,
   "metadata": {},
   "outputs": [],
   "source": [
    "def I(L, i):\n",
    "    card = int(n / (2**L))\n",
    "    start = i * card \n",
    "    end = start + card \n",
    "    return start, end"
   ]
  },
  {
   "cell_type": "code",
   "execution_count": 3,
   "metadata": {},
   "outputs": [],
   "source": [
    "def get(L, i, j=-1):\n",
    "    #assert i < 2**L\n",
    "    if j >= 0:\n",
    "        #assert j < 2**L\n",
    "        return int((4**L - 4)/3) + i * (2**L) + j\n",
    "    else:\n",
    "        return (2**L - 1) + i - 1"
   ]
  },
  {
   "cell_type": "code",
   "execution_count": 4,
   "metadata": {},
   "outputs": [],
   "source": [
    "def generate_mat(params):\n",
    "    mat = []\n",
    "    for i in range(n):\n",
    "        tmpv = np.zeros([n])\n",
    "        tmpv[i] = 1\n",
    "        colv, _ = hss(params, tmpv)\n",
    "        mat.append(colv)\n",
    "    return np.column_stack(mat)"
   ]
  },
  {
   "cell_type": "code",
   "execution_count": 5,
   "metadata": {},
   "outputs": [],
   "source": [
    "def hss(params, vec):\n",
    "    u, v, x, y, s, k, p, mat = params\n",
    "    res = np.zeros([n])\n",
    "    tmpX = np.zeros([2**(p+1)-2, k])\n",
    "    tmpY = np.zeros([2**(p+1)-2, k])\n",
    "    \n",
    "    start = time.time()\n",
    "    # step 1\n",
    "    L = p\n",
    "    for i in range(2**L):\n",
    "        si, ei = I(L, i)\n",
    "        tmpX[get(L, i)] = v[i].T.dot(vec[si:ei])\n",
    "\n",
    "    # step 2\n",
    "    for L in range(p-1, 0, -1):\n",
    "        for i in range(2**L):\n",
    "            tmpX[get(L,i)] = y[get(L,i)].T.dot(\n",
    "                np.hstack([tmpX[get(L+1, 2*i)], tmpX[get(L+1, 2*i+1)]]))\n",
    "\n",
    "    # step 3\n",
    "    for L in range(1, p):\n",
    "        for i in range(2**(L-1)):\n",
    "            tmpY[get(L,2*i)] = s[get(L,2*i,2*i+1)].dot(tmpX[get(L,2*i+1)])\n",
    "            tmpY[get(L,2*i+1)] = s[get(L,2*i+1,2*i)].dot(tmpX[get(L,2*i)])\n",
    "\n",
    "    # step 4\n",
    "    for L in range(1, p):\n",
    "        for i in range(2**L):\n",
    "            tmp = x[get(L, i)].dot(tmpY[get(L,i)])\n",
    "            tmpY[get(L+1,2*i)] += tmp[:k]\n",
    "            tmpY[get(L+1,2*i+1)] += tmp[k:]\n",
    "\n",
    "    # step 5\n",
    "    L = p\n",
    "    for i in range(2**L):\n",
    "        si, ei = I(L, i)\n",
    "        res[si:ei] = u[i].dot(tmpY[get(L,i)]) + mat[si:ei,si:ei].dot(vec[si:ei])\n",
    "    \n",
    "    end = time.time()\n",
    "    return res, (end - start)*1000"
   ]
  },
  {
   "cell_type": "code",
   "execution_count": 6,
   "metadata": {},
   "outputs": [
    {
     "name": "stdout",
     "output_type": "stream",
     "text": [
      "p=8, n=768\n",
      "21844.0\n",
      "u (256, 3, 1)\n",
      "v (256, 3, 1)\n",
      "x (254, 2, 1)\n",
      "y (254, 2, 1)\n",
      "s (21844, 1, 1)\n"
     ]
    }
   ],
   "source": [
    "p = 8\n",
    "n0 = 3\n",
    "k = 1 # rank \n",
    "n = (2**p) * n0 # matrix size\n",
    "print(\"p={}, n={}\".format(p,n))\n",
    "\n",
    "u = np.random.random([2**p, n0, k])  # O(nk)\n",
    "v = np.random.random([2**p, n0, k])  # O(nk)\n",
    "x = np.random.random([2**p-2, 2*k, k])  # O(pk^2)\n",
    "y = np.random.random([2**p-2, 2*k, k])  # O(pk^2)\n",
    "size = (4**p-4)/3\n",
    "s = np.random.random([int(size), k, k])  # O(nk^2/n0)\n",
    "print(size)\n",
    "print(\"u\", u.shape)\n",
    "print(\"v\", v.shape)\n",
    "print(\"x\", x.shape)\n",
    "print(\"y\", y.shape)\n",
    "print(\"s\", s.shape)"
   ]
  },
  {
   "cell_type": "code",
   "execution_count": 7,
   "metadata": {},
   "outputs": [],
   "source": [
    "# build up mat\n",
    "# fill up the diagonal blocks\n",
    "blockmat = np.zeros([n, n])\n",
    "L = p\n",
    "blocksize = n0 * 2**(p-L)\n",
    "for i in range(2**L):\n",
    "    si, ei = I(L, i)\n",
    "    blockmat[si:ei, si:ei] = np.random.random([blocksize, blocksize])\n",
    "    \n",
    "pa = (u, v, x, y, s, k, p, blockmat)\n",
    "mat = generate_mat(pa)"
   ]
  },
  {
   "cell_type": "code",
   "execution_count": 8,
   "metadata": {},
   "outputs": [],
   "source": [
    "vec = np.random.random([n])"
   ]
  },
  {
   "cell_type": "code",
   "execution_count": 9,
   "metadata": {},
   "outputs": [],
   "source": [
    "repeat = 10"
   ]
  },
  {
   "cell_type": "code",
   "execution_count": 10,
   "metadata": {},
   "outputs": [
    {
     "name": "stdout",
     "output_type": "stream",
     "text": [
      "11.230134963989258 ms\n"
     ]
    }
   ],
   "source": [
    "start = time.time()\n",
    "for _ in range(repeat):\n",
    "    ref = mat.dot(vec)\n",
    "end = time.time()\n",
    "print((end - start)*1000 / repeat, \"ms\")"
   ]
  },
  {
   "cell_type": "code",
   "execution_count": 11,
   "metadata": {},
   "outputs": [
    {
     "name": "stdout",
     "output_type": "stream",
     "text": [
      "685.2351427078247 ms\n"
     ]
    }
   ],
   "source": [
    "ref2 = np.zeros([n])\n",
    "start = time.time()\n",
    "for _ in range(repeat):\n",
    "    for i in range(n):\n",
    "        ref2[i] = 0\n",
    "        for j in range(n):\n",
    "            ref2[i] += mat[i,j]*vec[j]\n",
    "end = time.time()\n",
    "print((end - start)*1000 / repeat, \"ms\")"
   ]
  },
  {
   "cell_type": "code",
   "execution_count": 12,
   "metadata": {},
   "outputs": [
    {
     "name": "stdout",
     "output_type": "stream",
     "text": [
      "11.218070983886719 ms\n"
     ]
    }
   ],
   "source": [
    "t = 0\n",
    "for _ in range(repeat):\n",
    "    ours, tmpt = hss(pa, vec)\n",
    "    t += tmpt\n",
    "print(t / repeat, \"ms\")"
   ]
  },
  {
   "cell_type": "code",
   "execution_count": 13,
   "metadata": {},
   "outputs": [
    {
     "name": "stdout",
     "output_type": "stream",
     "text": [
      "True True\n"
     ]
    }
   ],
   "source": [
    "print(np.allclose(ref, ref2), np.allclose(ref, ours))"
   ]
  },
  {
   "cell_type": "markdown",
   "metadata": {},
   "source": []
  }
 ],
 "metadata": {
  "kernelspec": {
   "display_name": "Python 3",
   "language": "python",
   "name": "python3"
  },
  "language_info": {
   "codemirror_mode": {
    "name": "ipython",
    "version": 3
   },
   "file_extension": ".py",
   "mimetype": "text/x-python",
   "name": "python",
   "nbconvert_exporter": "python",
   "pygments_lexer": "ipython3",
   "version": "3.5.5"
  }
 },
 "nbformat": 4,
 "nbformat_minor": 2
}
